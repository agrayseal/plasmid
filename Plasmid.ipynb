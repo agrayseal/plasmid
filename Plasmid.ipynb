{
 "cells": [
  {
   "cell_type": "code",
   "execution_count": null,
   "id": "9bb98ba2",
   "metadata": {},
   "outputs": [],
   "source": [
    "'''\n",
    "    Made By: Christopher Fusco\n",
    "    Made On: Boxing day, 2021\n",
    "    Made With: A lot of whiskey\n",
    "'''"
   ]
  },
  {
   "cell_type": "code",
   "execution_count": null,
   "id": "03c69716",
   "metadata": {},
   "outputs": [],
   "source": [
    "# Installs\n",
    "%pip install pandas\n",
    "%pip install bs4\n",
    "%pip install requests\n",
    "%pip install tqdm"
   ]
  },
  {
   "cell_type": "code",
   "execution_count": null,
   "id": "b862595d",
   "metadata": {},
   "outputs": [],
   "source": [
    "# Imports\n",
    "import pandas as pd\n",
    "import requests\n",
    "import unicodedata\n",
    "from bs4 import BeautifulSoup\n",
    "from tqdm import tqdm"
   ]
  },
  {
   "cell_type": "code",
   "execution_count": null,
   "id": "3db2a2e8",
   "metadata": {},
   "outputs": [],
   "source": [
    "# Variables\n",
    "OUTPUT_FILE = 'enzymes.csv'"
   ]
  },
  {
   "cell_type": "code",
   "execution_count": null,
   "id": "64548328",
   "metadata": {
    "scrolled": true
   },
   "outputs": [],
   "source": [
    "# Gets all enzymes and their information at https://www.nebiolabs.com.au/products/restriction-endonucleases/hf-nicking-master-mix-time-saver-other.\n",
    "# Data is saved to file.\n",
    "def get_and_print_data():\n",
    "    df = pd.DataFrame()\n",
    "\n",
    "    req = requests.get('https://www.nebiolabs.com.au/products/restriction-endonucleases/hf-nicking-master-mix-time-saver-other')\n",
    "    soup = BeautifulSoup(req.text, 'html.parser')\n",
    "    sections = soup.find_all('section', attrs={'class': 'category'})\n",
    "    for i in range(1, 6):\n",
    "        sections_children = sections[i].find_all('section')\n",
    "\n",
    "        print('Obtaining section: ' + sections[i].h2.text)\n",
    "        for section in tqdm(sections_children):\n",
    "            try:\n",
    "                child_req = requests.get('https://www.nebiolabs.com.au' + section.h3.a['href'])\n",
    "                child_soup = BeautifulSoup(child_req.text, 'html.parser')\n",
    "\n",
    "                name = section.h3.a['name'].replace('®', '')\n",
    "                cut_site = 'None'\n",
    "\n",
    "                for li in child_soup.find_all('ul')[12].find_all('li'):\n",
    "                    pretty = unicodedata.normalize(\"NFKD\", li.text)\n",
    "                    if 'Restriction Enzyme Cut Site: ' in pretty:\n",
    "                        cut_site = pretty.replace('Restriction Enzyme Cut Site: ', '')\n",
    "\n",
    "                table = child_soup.find('table', attrs={'class': 'js-pdp-product-grid'})\n",
    "                units = unicodedata.normalize(\"NFKD\", table.tbody.tr.find_all('td')[2].span.text).replace(' ', '').replace('units', '')\n",
    "                price = table.tbody.tr.find_all('td')[3].span['data-price']\n",
    "\n",
    "                df = df.append({'section': sections[i].h2.text, 'name': name, 'cut site': cut_site , 'units': units, 'price ($)': price}, ignore_index=True)\n",
    "            except:\n",
    "                name = section.h3.a['name']\n",
    "                print(f'There was an error processing {name}')\n",
    "    df.to_csv(OUTPUT_FILE, index=False)\n",
    "    print('Completed.')"
   ]
  },
  {
   "cell_type": "code",
   "execution_count": null,
   "id": "44930d59",
   "metadata": {
    "scrolled": true
   },
   "outputs": [],
   "source": [
    "# Run the code\n",
    "get_and_print_data()"
   ]
  },
  {
   "cell_type": "code",
   "execution_count": null,
   "id": "0cbda92a",
   "metadata": {},
   "outputs": [],
   "source": []
  }
 ],
 "metadata": {
  "kernelspec": {
   "display_name": "Python 3 (ipykernel)",
   "language": "python",
   "name": "python3"
  },
  "language_info": {
   "codemirror_mode": {
    "name": "ipython",
    "version": 3
   },
   "file_extension": ".py",
   "mimetype": "text/x-python",
   "name": "python",
   "nbconvert_exporter": "python",
   "pygments_lexer": "ipython3",
   "version": "3.9.10"
  }
 },
 "nbformat": 4,
 "nbformat_minor": 5
}
